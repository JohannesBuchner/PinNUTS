{
 "cells": [
  {
   "cell_type": "markdown",
   "metadata": {},
   "source": [
    "# HMC Monte-Carlo sampling from a power-law mass function\n",
    "\n",
    "We assume a set of masses drawn from a power-law distribution. The distribution\n",
    "is defined by 3 parameters: the index $\\alpha$, the lower and upper mass range\n",
    "$M_{min}$, $M_{max}$.\n",
    "    $$\\theta = { \\alpha, M_{min}, M_{max} }$$\n",
    "    \n",
    "Let's suppose known $M_{min}$ and $M_{max}$ such that we only look at the posterior of\n",
    "$\\alpha$. We know that in fact $M_{max}$ and $M_{min}$ cannot be infered because they are\n",
    "most likely outside from the mass range covered by the data set.\n",
    "    $$dN/dM = Z \\times M ^ -\\alpha$$\n",
    "where\n",
    "\\begin{equation}\n",
    "     Z = \\int_{M_{min}}^{M_{max}} dN/dM dM \\\\\n",
    "       = \\frac{(1 - \\alpha)}{(M_{max} ^ {1 - \\alpha} - M_{min} ^ {1 - \\alpha})}\n",
    "\\end{equation}\n",
    "\n",
    "we define $\\beta = 1 - \\alpha$\n",
    "    $$Z = \\frac{\\beta}{M_{max} ^ \\beta - M_{min} ^ \\beta}$$\n",
    "    \n",
    "For this test, we neglect errors of stellar mass observations.\n",
    "Least-square likelihood could be used in this case. However instead we can make\n",
    "use that the mass function is the PDF of our data. Thus, We can derive the likelihood as\n",
    "    $$L(Data; \\alpha) = \\prod_k Z \\times M_k ^ \\alpha$$\n",
    "and because numerically more stable and usually makes the math simpler we\n",
    "define the  log-likelhood $\\ln L(Data; \\alpha)$ as\n",
    "    $$\\ln L(Data; \\alpha) = N \\ln(Z) - \\alpha  \\sum_k \\ln(M_k)$$\n",
    "    \n",
    "    \n",
    "Note that the data set only enters via $D = \\sum_k \\ln(M_k)$, term that is\n",
    "completely independent of the fit parameter. Hence this term can be computed\n",
    "once and for all at beginning. Therefore, the length of the data set does not\n",
    "slow down the computations. (This may not be true for non-perfectly known masses)"
   ]
  },
  {
   "cell_type": "markdown",
   "metadata": {},
   "source": [
    "This experiment aims at implementing Hamiltonian Monte-Carlo method. This\n",
    "method involves a stepsize as the traditional MH (Metropolis Hastings) method\n",
    "but improves efficiency by updating this value using the local gradient of the\n",
    "objective function $\\ln L$.\n",
    "\n",
    "Hamiltonian Monte-Carlo makes use of the fact, that we can write our\n",
    "log-likelihood as an energy similarly to dynamic systems:\n",
    "    $$L = \\exp( \\ln(L) ) = \\exp( -E )$$\n",
    "So that $E = - \\ln(L)$ is the energy of any point in the parameter space.\n",
    "\n",
    "Maximazing the likelihood becomes finding the minimum state of energy.\n",
    "The algorithm then uses Hamiltonian dynamics to modify the way how candidates\n",
    "are proposed by computing the total energy of a local point by:\n",
    "    $$H = \\frac{1}{2} p ^ 2 + E$$\n",
    "where $p ^ 2$ is the impulse (movement between 2 steps)\n",
    "$p$ is proposed by doing random leap frog steps locally using the gradient of the\n",
    "objective function.\n",
    "\n",
    "In our case the gradient function of the log-likelihood is:\n",
    "\\begin{eqnarray}\n",
    "    \\frac{d \\ln L}{d \\theta} &=& \\frac{d \\ln L}{d \\alpha}\\\\\n",
    "    &=& -D - \\frac{N}{\\beta} \\times \\left[ 1 + Z \\times (\\ln(M_{min}) \\times M_{min} ^ \\beta - \\ln(M_{max}) \\times M_{max} ^ \\beta)\\right]\n",
    "\\end{eqnarray}"
   ]
  },
  {
   "cell_type": "code",
   "execution_count": 1,
   "metadata": {},
   "outputs": [],
   "source": [
    "%matplotlib inline"
   ]
  },
  {
   "cell_type": "code",
   "execution_count": 2,
   "metadata": {},
   "outputs": [],
   "source": [
    "import numpy as np\n",
    "import random as random\n",
    "import matplotlib.pyplot as plt\n",
    "import time\n",
    "from nuts import nuts6, NutsSampler_fn_wrapper\n",
    "\n",
    "# set the seed\n",
    "random.seed(1)\n",
    "\n",
    "\n",
    "def random_PowerLaw(N, alpha, M_min, M_max):\n",
    "    \"\"\"\n",
    "    Draw random samples from a power-law defined over M_min, M_max.\n",
    "        dN/dM = Z x M ** -alpha\n",
    "    INPUTS\n",
    "    ------\n",
    "    N: int\n",
    "        number of samples.\n",
    "    alpha: float\n",
    "        power-law index.\n",
    "    M_min: float\n",
    "        lower bound of mass interval.\n",
    "    M_max: float\n",
    "        upper bound of mass interval.\n",
    "    OUTPUTS\n",
    "    -------\n",
    "    masses: ndarray[float, ndim=1]\n",
    "        list of N masses drawn from the power-law\n",
    "    \"\"\"\n",
    "    beta = 1. - alpha\n",
    "    x = np.random.uniform(0., 1., N)\n",
    "    if beta == 0:\n",
    "        y = M_min * np.exp( np.log(M_max / M_min) * x )\n",
    "    else:\n",
    "        y = ((M_max ** beta - M_min ** beta) * x + M_min ** beta) ** (1. / beta)\n",
    "    return y\n",
    "\n",
    "\n",
    "def logLikelihood(theta, D, N, M_min, M_max):\n",
    "    \"\"\"\n",
    "    Define logarithmic likelihood function.\n",
    "    theta: ndarray[float, ndim=1]\n",
    "        array of fit params\n",
    "    D: float\n",
    "        data\n",
    "        normalization constant, sum_n log(M_n)\n",
    "    N: int\n",
    "        number of data points\n",
    "    M_min: float\n",
    "        lower limit of mass interval\n",
    "    M_max: float\n",
    "        upper limit of mass interval\n",
    "    \"\"\"\n",
    "    # extract alpha\n",
    "    alpha = theta[0]\n",
    "    beta = 1.0 - alpha\n",
    "\n",
    "    # Compute normalisation constant.\n",
    "    if beta == 0:\n",
    "        c = np.log(M_max / M_min)\n",
    "    else:\n",
    "        c = beta / (M_max ** beta - M_min ** beta)\n",
    "\n",
    "    # return log likelihood.\n",
    "    return N * np.log(c) - alpha * D\n",
    "\n",
    "\n",
    "def grad_logLikelihood(theta, D, N, M_min, M_max):\n",
    "    \"\"\"Define gradient of log-likelihood\n",
    "    d lnL / d theta (here only one dim alpha\n",
    "    theta: ndarray[float, ndim=1]\n",
    "        array of fit params\n",
    "    D: float\n",
    "        data\n",
    "        normalization constant, sum_n log(M_n)\n",
    "    N: int\n",
    "        number of data points\n",
    "    M_min: float\n",
    "        lower limit of mass interval\n",
    "    M_max: float\n",
    "        upper limit of mass interval\n",
    "    \"\"\"\n",
    "    alpha = theta[0]  # extract alpha\n",
    "    beta = 1.0 - alpha\n",
    "\n",
    "    #Convert limits from M to logM.\n",
    "    logMmin = np.log(M_min)\n",
    "    logMmax = np.log(M_max)\n",
    "\n",
    "    if beta != 0:\n",
    "        grad = logMmin * M_min ** beta - logMmax * M_max ** beta\n",
    "        grad = 1.0 + grad * beta / (M_max ** beta - M_min ** beta)\n",
    "        grad = -D - N * grad / beta\n",
    "    else:\n",
    "        grad = float(N)\n",
    "\n",
    "    return np.array([grad])"
   ]
  },
  {
   "cell_type": "code",
   "execution_count": 3,
   "metadata": {},
   "outputs": [
    {
     "name": "stdout",
     "output_type": "stream",
     "text": [
      "Starting Sampling at Mon Jul 16 16:01:59 2018\n",
      "find_reasonable_epsilon= 0.0078125\n"
     ]
    },
    {
     "name": "stderr",
     "output_type": "stream",
     "text": [
      "/srv/conda/lib/python3.6/site-packages/ipykernel_launcher.py:62: RuntimeWarning: overflow encountered in double_scalars\n",
      "/srv/conda/lib/python3.6/site-packages/ipykernel_launcher.py:65: RuntimeWarning: divide by zero encountered in log\n",
      "/srv/conda/lib/python3.6/site-packages/ipykernel_launcher.py:91: RuntimeWarning: overflow encountered in double_scalars\n",
      "/srv/conda/lib/python3.6/site-packages/ipykernel_launcher.py:92: RuntimeWarning: overflow encountered in double_scalars\n",
      "/srv/conda/lib/python3.6/site-packages/ipykernel_launcher.py:92: RuntimeWarning: invalid value encountered in double_scalars\n",
      "/home/jovyan/nuts/nuts.py:177: RuntimeWarning: overflow encountered in exp\n",
      "  alphaprime = min(1., np.exp(joint - joint0))\n"
     ]
    },
    {
     "name": "stdout",
     "output_type": "stream",
     "text": [
      "Sampling Completed in 0.21 seconds\n"
     ]
    }
   ],
   "source": [
    "# Generate toy data.\n",
    "Nstars = int(1e5)\n",
    "alpha  = 2.35\n",
    "M_min  = 1.0\n",
    "M_max  = 100.0\n",
    "Masses = random_PowerLaw(Nstars, alpha, M_min, M_max)\n",
    "LogM   = np.log(Masses)\n",
    "D      = np.mean(LogM) * Nstars\n",
    "\n",
    "#NUTS pars\n",
    "M, Madapt = 1000, 1000\n",
    "theta0 = np.asarray([3.0])\n",
    "delta = 0.5\n",
    "\n",
    "nuts_fn = NutsSampler_fn_wrapper(logLikelihood, grad_logLikelihood, D, Nstars, M_min, M_max)\n",
    "#nuts_fn.verbose = True\n",
    "\n",
    "t_start = time.time()\n",
    "print(\"Starting Sampling at %s\" % time.ctime(t_start))\n",
    "A, lnprob, epsilon = nuts6(nuts_fn, M, Madapt, theta0, delta)\n",
    "t_stop = time.time()\n",
    "print(\"Sampling Completed in %0.2f seconds\" % (t_stop - t_start))"
   ]
  },
  {
   "cell_type": "code",
   "execution_count": 4,
   "metadata": {},
   "outputs": [
    {
     "name": "stdout",
     "output_type": "stream",
     "text": [
      "Mean:  2.350359000945028\n",
      "Alpha = 2.350454340625697 (+0.00430382275886787 / - 0.004864395637874441)\n"
     ]
    },
    {
     "data": {
      "image/png": "[encoded data removed]",
      "text/plain": [
       "<Figure size 432x288 with 1 Axes>"
      ]
     },
     "metadata": {},
     "output_type": "display_data"
    }
   ],
   "source": [
    "plt.figure(1)\n",
    "\n",
    "# Print Monte-Carlo estimate of alpha.\n",
    "print(\"Mean:  \" + str(np.mean(A)))\n",
    "per = np.percentile(A, [16, 50, 84])\n",
    "print(\"Alpha = {} (+{} / - {})\".format( per[1], per[2] - per[1], per[1] - per[0] ))\n",
    "\n",
    "n, b = np.histogram(A, 30)\n",
    "x = 0.5 * (b[:-1] + b[1:])\n",
    "y = n.astype(float) / n.sum()\n",
    "plt.step(x, y, color='b', lw=3, where='mid')\n",
    "plt.vlines(per, 0., max(y), linestyle='--', color='b', lw=1)\n",
    "\n",
    "ylim = plt.ylim()\n",
    "plt.vlines(alpha, 0, ylim[1], color='r', lw=3)\n",
    "plt.ylim(ylim)\n",
    "plt.xlabel(r'$\\alpha$', fontsize=24)\n",
    "plt.ylabel(r'$\\cal L($Data$;\\alpha)$', fontsize=24)\n",
    "plt.show()"
   ]
  },
  {
   "cell_type": "code",
   "execution_count": null,
   "metadata": {},
   "outputs": [],
   "source": []
  }
 ],
 "metadata": {
  "kernelspec": {
   "display_name": "Python 3",
   "language": "python",
   "name": "python3"
  },
  "language_info": {
   "codemirror_mode": {
    "name": "ipython",
    "version": 3
   },
   "file_extension": ".py",
   "mimetype": "text/x-python",
   "name": "python",
   "nbconvert_exporter": "python",
   "pygments_lexer": "ipython3",
   "version": "3.6.5"
  }
 },
 "nbformat": 4,
 "nbformat_minor": 2
}
